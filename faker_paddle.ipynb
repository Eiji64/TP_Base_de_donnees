{
 "cells": [
  {
   "attachments": {},
   "cell_type": "markdown",
   "metadata": {},
   "source": [
    "## Import des bibliothèques"
   ]
  },
  {
   "cell_type": "code",
   "execution_count": 44,
   "metadata": {},
   "outputs": [],
   "source": [
    "import sqlite3\n",
    "from faker import Faker\n",
    "import random\n",
    "from datetime import datetime, timedelta"
   ]
  },
  {
   "attachments": {},
   "cell_type": "markdown",
   "metadata": {},
   "source": [
    "## Creation d'une BDD originale"
   ]
  },
  {
   "cell_type": "code",
   "execution_count": 77,
   "metadata": {},
   "outputs": [],
   "source": [
    "\n",
    "\n",
    "fake = Faker('fr_FR')\n",
    "\n",
    "# /Création/Connexion à la base de données SQLite\n",
    "connexion = sqlite3.connect('PassionPaddle5.db')\n",
    "cursor = connexion.cursor()\n",
    "\n",
    "# Création de la table des employés\n",
    "cursor.execute('''CREATE TABLE employes (\n",
    "                    id_em INTEGER PRIMARY KEY,\n",
    "                    nom TEXT,\n",
    "                    genre TEXT,\n",
    "                    date_naissance DATE,\n",
    "                    date_embauche DATE,\n",
    "                    date_depart DATE,\n",
    "                    id_li INTEGER,\n",
    "                    FOREIGN KEY (id_li) REFERENCES lieux (id_li)\n",
    "                )''')\n",
    "\n",
    "# Création de la table des lieux de travail\n",
    "cursor.execute('''CREATE TABLE lieux (\n",
    "                    id_li INTEGER PRIMARY KEY,\n",
    "                    ville TEXT\n",
    "                )''')\n",
    "\n",
    "# Génération des données pour la table des employés\n",
    "for _ in range(20):\n",
    "    nom = fake.last_name()\n",
    "    genre = random.choice(['Homme', 'Femme'])\n",
    "    date_naissance = fake.date_of_birth(minimum_age=20, maximum_age=63)\n",
    "\n",
    "    yesterday = datetime.now().date() - timedelta(days=1)\n",
    "    date_embauche = fake.date_between(start_date=date_naissance + timedelta(days=365*18), end_date=yesterday)\n",
    "    \n",
    "    date_depart = random.choice(['9999-01-01', None])\n",
    "    if date_depart != '9999-01-01':\n",
    "        # date_embauche_dt = datetime.strptime(date_embauche)\n",
    "        date_depart_dt = fake.date_between_dates(date_start=date_embauche + timedelta(days=1),\n",
    "                                                 date_end=datetime.today())\n",
    "        date_depart = date_depart_dt\n",
    "    \n",
    "    id_li = _ + 1  # id_li est égal à id_em associé\n",
    "    \n",
    "\n",
    "    # Insertion des données dans la table des employés\n",
    "    cursor.execute('''INSERT INTO employes (nom, genre, date_naissance, date_embauche, date_depart, id_li)\n",
    "                      VALUES (?, ?, ?, ?, ?, ?)''', (nom, genre, date_naissance, date_embauche, date_depart, id_li))\n",
    "\n",
    "# Génération des données pour la table des lieux de travail\n",
    "for ville in range(20):\n",
    "    ville = random.choice(['Orléans', 'Blois', 'Tours', 'Bourges'])    # Je peux sans doute remonter tout ça dans la boucle du dessus\n",
    "    # Insertion des données dans la table des lieux de travail\n",
    "    cursor.execute('''INSERT INTO lieux (ville)\n",
    "                      VALUES (?)''', (ville,))\n",
    "\n",
    "# Validation et fermeture de la connexion à la base de données\n",
    "connexion.commit()\n",
    "connexion.close()\n"
   ]
  },
  {
   "attachments": {},
   "cell_type": "markdown",
   "metadata": {},
   "source": [
    "## Saisie des données par un utilisateur"
   ]
  },
  {
   "cell_type": "code",
   "execution_count": 32,
   "metadata": {},
   "outputs": [
    {
     "name": "stdout",
     "output_type": "stream",
     "text": [
      "['Texier', 'Homme', datetime.date(1968, 12, 7), datetime.date(2020, 2, 14), datetime.date(2021, 10, 29)]\n"
     ]
    }
   ],
   "source": [
    "\n",
    "# fonction utilisée pour s'assurer que les dates seront au format international pour les traiter ensuite en SQL\n",
    "\n",
    "def validate_date(date_string):\n",
    "    try:\n",
    "        date = datetime.strptime(date_string, \"%Y-%m-%d\")\n",
    "        return date.date()\n",
    "    except ValueError:\n",
    "        return None\n",
    "\n",
    "# la fonction de saisie des informations par l'utilisateur\n",
    "\n",
    "def inserer_informations_nouvel_employe() :\n",
    "   \n",
    "    genre_possible = [\"Homme\", \"Femme\"]\n",
    "    ville_possible = ['Orléans', 'Blois', 'Tours', 'Bourges']\n",
    "\n",
    "    nom = input(\"Quel est le nom de l'employé: \") \n",
    "\n",
    "    genre = None\n",
    "    while genre not in genre_possible :\n",
    "        genre = input(\"Quelle est le genre de l'employé (Homme/Femme) : \")\n",
    "        if genre and genre not in genre_possible:\n",
    "            print(\"La valeur saisie n'est pas correcte. Veuillez réessayer.\")\n",
    "\n",
    "    date_naissance = None\n",
    "    while date_naissance is None:\n",
    "        date_naissance = validate_date(input(\"Date de naissance (Format: yyyy-mm-dd) : \"))\n",
    "        if date_naissance is None:\n",
    "            print(\"La date saisie est invalide. Veuillez réessayer.\")\n",
    "    \n",
    "    # Validation de la date d'embauche\n",
    "    date_embauche = None\n",
    "    while date_embauche is None:\n",
    "        date_embauche = validate_date(input(\"Date d'embauche (Format: yyyy-mm-dd) : \"))\n",
    "        if date_embauche is None:\n",
    "            print(\"La date saisie est invalide. Veuillez réessayer.\")\n",
    "        else:\n",
    "            age_min_requis = date_naissance + timedelta(days=16*365)  # Calcul de la date de naissance + 16 ans\n",
    "            if date_embauche < age_min_requis:\n",
    "                print(\"La date saisie est invalide. Veuillez réessayer.\")\n",
    "    \n",
    "    # Validation de la date de départ\n",
    "    date_depart = None\n",
    "    while date_depart is None:\n",
    "        date_depart_str = input(\"Date de départ (Format: yyyy-mm-dd ou 9999-01-01 pour aucune date de départ) : \")\n",
    "        if date_depart_str == '9999-01-01':\n",
    "            date_depart = date_depart_str\n",
    "        else:\n",
    "            date_depart = validate_date(date_depart_str)\n",
    "            if date_depart is None or date_depart <= date_embauche:\n",
    "                print(\"La date saisie est invalide. Veuillez réessayer.\")\n",
    "\n",
    "    #  Validation de la ville \n",
    "    ville = None           \n",
    "    while ville not in ville_possible :\n",
    "        ville = input(\"Ville d'affectation de l'employé (Orléans/Blois/Tours/Bourges) : \")\n",
    "        if ville and ville not in ville_possible:\n",
    "            print(\"La valeur saisie n'est pas correcte. Veuillez réessayer.\")\n",
    "\n",
    "    employe_data = [nom, genre, date_naissance, date_embauche, date_depart]\n",
    "    ville_data =[ville]\n",
    "    \n",
    "    return employe_data, ville_data\n",
    "\n",
    "#Connexion à la base de données\n",
    "\n",
    "connexion = sqlite3.connect('PassionPaddle.db')\n",
    "cursor = connexion.cursor()\n",
    "\n",
    "encore_une_saisie = \"o\"\n",
    "\n",
    "\n",
    "while encore_une_saisie.lower() != \"n\":\n",
    "    employe_data,ville_data = inserer_informations_nouvel_employe()\n",
    "    print(employe_data)\n",
    "    \n",
    "    # Insérer les données dans la base de données ici\n",
    "\n",
    "    \n",
    "    try : \n",
    "        cursor.execute(\"INSERT INTO lieux (ville) VALUES(?)\", ville_data)\n",
    "        cursor.execute(\"INSERT INTO employes (nom, genre, date_naissance, date_embauche, date_depart, id_li) VALUES (?, ?, ?, ?, ?, last_insert_rowid())\", employe_data)\n",
    "    except sqlite3.IntegrityError as e:\n",
    "        print(e)\n",
    "    \n",
    "    encore_une_saisie = input(\"Voulez-vous continuer (o/n) : \")\n",
    "\n",
    "   "
   ]
  },
  {
   "cell_type": "markdown",
   "metadata": {},
   "source": [
    " ## Validation et fermeture de la connexion à la base de données"
   ]
  },
  {
   "cell_type": "code",
   "execution_count": 92,
   "metadata": {},
   "outputs": [
    {
     "ename": "ProgrammingError",
     "evalue": "Cannot operate on a closed database.",
     "output_type": "error",
     "traceback": [
      "\u001b[1;31m---------------------------------------------------------------------------\u001b[0m",
      "\u001b[1;31mProgrammingError\u001b[0m                          Traceback (most recent call last)",
      "Cell \u001b[1;32mIn[92], line 1\u001b[0m\n\u001b[1;32m----> 1\u001b[0m connexion\u001b[39m.\u001b[39;49mcommit()\n\u001b[0;32m      2\u001b[0m connexion\u001b[39m.\u001b[39mclose()    \n",
      "\u001b[1;31mProgrammingError\u001b[0m: Cannot operate on a closed database."
     ]
    }
   ],
   "source": [
    "\n",
    "connexion.commit()\n",
    "connexion.close()    "
   ]
  },
  {
   "cell_type": "markdown",
   "metadata": {},
   "source": [
    "## Interrogation de la base"
   ]
  },
  {
   "cell_type": "code",
   "execution_count": 78,
   "metadata": {},
   "outputs": [],
   "source": [
    "connexion = sqlite3.connect('PassionPaddle5.db')\n",
    "cursor = connexion.cursor()"
   ]
  },
  {
   "cell_type": "code",
   "execution_count": 52,
   "metadata": {},
   "outputs": [
    {
     "name": "stdout",
     "output_type": "stream",
     "text": [
      "Le nombre total de salariés est de : 20\n"
     ]
    }
   ],
   "source": [
    "# Combien de salariés comprend la société ?\n",
    "\n",
    "cursor.execute(\"SELECT COUNT(*) FROM employes\")\n",
    "total_salaries = cursor.fetchone()[0]\n",
    "print(f\"Le nombre total de salariés est de :{total_salaries}\")\n",
    "\n"
   ]
  },
  {
   "cell_type": "code",
   "execution_count": 79,
   "metadata": {},
   "outputs": [
    {
     "name": "stdout",
     "output_type": "stream",
     "text": [
      "Localisation professionnelle des salariés :\n",
      "Blois: 6 salariés\n",
      "Bourges: 2 salariés\n",
      "Orléans: 5 salariés\n",
      "Tours: 7 salariés\n"
     ]
    }
   ],
   "source": [
    "#Où sont-ils localisés au niveau professionnel ?\n",
    "cursor.execute(\"SELECT ville, COUNT(*) FROM lieux JOIN employes ON lieux.id_li = employes.id_li GROUP BY ville\")\n",
    "localisation_professionnelle = cursor.fetchall()\n",
    "print(\"Localisation professionnelle des salariés :\")\n",
    "for row in localisation_professionnelle:\n",
    "    ville, count = row\n",
    "    print(f\"{ville}: {count} salariés\")"
   ]
  },
  {
   "cell_type": "code",
   "execution_count": 80,
   "metadata": {},
   "outputs": [
    {
     "name": "stdout",
     "output_type": "stream",
     "text": [
      "Âge moyen des salariés : 39.5 ans.\n",
      "Âge médian des salariés : 36 ans.\n"
     ]
    }
   ],
   "source": [
    "# Quel est l’âge moyen et médian des salariés ?\n",
    "\n",
    "cursor.execute(\"SELECT AVG(strftime('%Y', 'now') - strftime('%Y', date_naissance)) FROM employes\")\n",
    "age_moyen = cursor.fetchone()[0]\n",
    "print(f\"Âge moyen des salariés : {age_moyen} ans.\")\n",
    "\n",
    "#Stackoverflow : requete permettant de definir la mediane que le nombre d'enregistrement soit pair ou impair\n",
    "\n",
    "cursor.execute(\"\"\"\n",
    "    SELECT strftime('%Y', 'now') - strftime('%Y', date_naissance) AS age\n",
    "    FROM employes\n",
    "    ORDER BY age\n",
    "    LIMIT 2 - (SELECT COUNT(*) FROM employes) % 2 \n",
    "    OFFSET (SELECT (COUNT(*) - 1) / 2\n",
    "        FROM employes\n",
    "    )\n",
    "\"\"\")\n",
    "age_median = cursor.fetchone()[0]\n",
    "print(f\"Âge médian des salariés : {age_median} ans.\")"
   ]
  },
  {
   "cell_type": "code",
   "execution_count": 81,
   "metadata": {},
   "outputs": [
    {
     "name": "stdout",
     "output_type": "stream",
     "text": [
      "Âge maximum des salariés : 59 ans.\n",
      "Âge minimum des salariés : 21 ans.\n"
     ]
    }
   ],
   "source": [
    "#Quel est l’étendue des âges ?\n",
    "\n",
    "cursor.execute(\"SELECT MAX(strftime('%Y', 'now') - strftime('%Y', date_naissance)), MIN(strftime('%Y', 'now') - strftime('%Y', date_naissance)) FROM employes\")\n",
    "age_max, age_min = cursor.fetchone()\n",
    "print(f\"Âge maximum des salariés : {age_max} ans.\")\n",
    "print(f\"Âge minimum des salariés : {age_min} ans.\")"
   ]
  },
  {
   "cell_type": "code",
   "execution_count": 84,
   "metadata": {},
   "outputs": [
    {
     "name": "stdout",
     "output_type": "stream",
     "text": [
      "Le salarié le plus ancien est Lemaître, Id n° 14:\n"
     ]
    }
   ],
   "source": [
    "# Quel est le salarié le plus ancien de la société en termes d’ancienneté ?\n",
    "\n",
    "cursor.execute(\"SELECT id_em,nom FROM employes WHERE date_depart = '9999-01-01' ORDER BY date_embauche ASC LIMIT 1\")\n",
    "salarie_plus_ancien = cursor.fetchone()\n",
    "print(f\"Le salarié le plus ancien est {salarie_plus_ancien[1]}, Id n° {salarie_plus_ancien[0]}:\")"
   ]
  },
  {
   "cell_type": "code",
   "execution_count": 85,
   "metadata": {},
   "outputs": [
    {
     "name": "stdout",
     "output_type": "stream",
     "text": [
      "Répartition hommes-femmes :\n",
      "Pourcentage d'hommes : 50%\n",
      "Pourcentage de femmes : 50%\n"
     ]
    }
   ],
   "source": [
    "# Quelle est la répartition entre les hommes et les femmes ?\n",
    "\n",
    "cursor.execute(\"\"\"\n",
    "    SELECT\n",
    "        (COUNT(CASE WHEN genre = 'Homme' THEN 1 ELSE NULL END) * 100 / COUNT(*)) AS pourcentage_hommes,\n",
    "        (COUNT(CASE WHEN genre = 'Femme' THEN 1 ELSE NULL END) * 100 / COUNT(*)) AS pourcentage_femmes\n",
    "    FROM employes\n",
    "\"\"\")\n",
    "\n",
    "result = cursor.fetchone()\n",
    "\n",
    "#  Pourcentages d'hommes et de femmes\n",
    "pourcentage_hommes = result[0]\n",
    "pourcentage_femmes = result[1]\n",
    "\n",
    "print(f\"Répartition hommes-femmes :\")\n",
    "print(f\"Pourcentage d'hommes : {pourcentage_hommes:}%\")\n",
    "print(f\"Pourcentage de femmes : {pourcentage_femmes:}%\")\n"
   ]
  },
  {
   "cell_type": "code",
   "execution_count": 86,
   "metadata": {},
   "outputs": [
    {
     "name": "stdout",
     "output_type": "stream",
     "text": [
      "Aucun doublon trouvé.\n"
     ]
    }
   ],
   "source": [
    "#Y-a-t-il des doublons ?\n",
    "\n",
    "cursor.execute(\"SELECT id_em, COUNT(*) FROM employes GROUP BY nom, genre, date_naissance HAVING COUNT(*) > 1\")\n",
    "doublons = cursor.fetchall()\n",
    "if doublons:\n",
    "    print(\"Doublons détectés :\")\n",
    "    for doublon in doublons:\n",
    "        print(f\"Numéro d'employé en doublon : {doublon[0]}\")\n",
    "else:\n",
    "    print(\"Aucun doublon trouvé.\")\n"
   ]
  },
  {
   "cell_type": "code",
   "execution_count": 87,
   "metadata": {},
   "outputs": [
    {
     "name": "stdout",
     "output_type": "stream",
     "text": [
      "Liste des salariés par ordre alphabétique :\n",
      "Barbier\n",
      "Bertrand\n",
      "Brunel\n",
      "Bègue\n",
      "Collet\n",
      "Fernandes\n",
      "Grondin\n",
      "Lambert\n",
      "Legendre\n",
      "Lejeune\n",
      "Lemaître\n",
      "Martin\n",
      "Mercier\n",
      "Neveu\n",
      "Pasquier\n",
      "Ruiz\n",
      "Schmitt\n",
      "Teixeira\n",
      "Teixeira\n",
      "Thierry\n"
     ]
    }
   ],
   "source": [
    "# Afficher la liste des salariés classés par ordre alphabétique.\n",
    "\n",
    "cursor.execute(\"SELECT nom FROM employes ORDER BY nom\")\n",
    "liste_salaries = cursor.fetchall()\n",
    "print(\"Liste des salariés par ordre alphabétique :\")\n",
    "for row in liste_salaries:\n",
    "    print(row[0])\n"
   ]
  },
  {
   "cell_type": "code",
   "execution_count": 62,
   "metadata": {},
   "outputs": [],
   "source": [
    "# Fermeture de la bdd\n",
    "\n",
    "connexion.close() "
   ]
  }
 ],
 "metadata": {
  "kernelspec": {
   "display_name": "venv",
   "language": "python",
   "name": "python3"
  },
  "language_info": {
   "codemirror_mode": {
    "name": "ipython",
    "version": 3
   },
   "file_extension": ".py",
   "mimetype": "text/x-python",
   "name": "python",
   "nbconvert_exporter": "python",
   "pygments_lexer": "ipython3",
   "version": "3.11.3"
  },
  "orig_nbformat": 4
 },
 "nbformat": 4,
 "nbformat_minor": 2
}
